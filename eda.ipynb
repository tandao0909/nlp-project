{
 "cells": [
  {
   "cell_type": "markdown",
   "id": "2556ce3a",
   "metadata": {},
   "source": [
    "# EDA và Tiền xử lý dữ liệu:\n",
    "- Phân tích phân bố dữ liệu, missing values, outliers.\n",
    "- Thực hiện chuẩn hóa biến số, encoding cho biến phân loại.\n",
    "- Trích chọn hoặc tạo thêm các đặc trưng mới (feature engineering).\n",
    "- Chia tập dữ liệu thành train/validation/test theo tỷ lệ và phương pháp stratified sampling.\n"
   ]
  },
  {
   "cell_type": "markdown",
   "id": "1659a78d",
   "metadata": {},
   "source": [
    "# Processing"
   ]
  },
  {
   "cell_type": "code",
   "execution_count": 1,
   "id": "715b9946",
   "metadata": {},
   "outputs": [],
   "source": [
    "import pandas as pd"
   ]
  },
  {
   "cell_type": "markdown",
   "id": "7ae27a21",
   "metadata": {},
   "source": [
    "The source dataset can be downloaded using the link: https://drive.google.com/drive/folders/1mrX3vPKhEzxG96OCPpCeh9F8m_QKCM4z?usp=sharing"
   ]
  },
  {
   "cell_type": "code",
   "execution_count": 2,
   "id": "2c792f17",
   "metadata": {},
   "outputs": [],
   "source": [
    "true_df = pd.read_csv(\"./DataSet_Misinfo_TRUE.csv\", index_col=0)\n",
    "fake_df = pd.read_csv(\"./DataSet_Misinfo_FAKE.csv\", index_col=0)"
   ]
  },
  {
   "cell_type": "code",
   "execution_count": 3,
   "id": "4fee1644",
   "metadata": {},
   "outputs": [
    {
     "data": {
      "text/plain": [
       "((34975, 1), (43642, 1))"
      ]
     },
     "execution_count": 3,
     "metadata": {},
     "output_type": "execute_result"
    }
   ],
   "source": [
    "true_df.shape, fake_df.shape"
   ]
  },
  {
   "cell_type": "markdown",
   "id": "b11d40d8",
   "metadata": {},
   "source": [
    "There are 34975 true articles and 43642 fake articles."
   ]
  },
  {
   "cell_type": "code",
   "execution_count": 4,
   "id": "6a2dda9c",
   "metadata": {},
   "outputs": [],
   "source": [
    "def process_df(df: pd.DataFrame) -> pd.DataFrame:\n",
    "    nan_count = int(df.isna().sum()[\"text\"])\n",
    "    duplicate_count = df.duplicated().sum()\n",
    "    df = df.dropna()\n",
    "    df = df.drop_duplicates()\n",
    "    print(\n",
    "        f\"{nan_count} NaN, {duplicate_count} duplicate in the provided DataFrame. Have cleaned them all up.\"\n",
    "    )\n",
    "    return df"
   ]
  },
  {
   "cell_type": "markdown",
   "id": "2394eb9a",
   "metadata": {},
   "source": [
    "There are 29 NaN items in the true articles dataset, and 0 in the fake one. We would drop the NaN items in the true articles dataset."
   ]
  },
  {
   "cell_type": "code",
   "execution_count": 5,
   "id": "3afe20ff",
   "metadata": {},
   "outputs": [
    {
     "name": "stdout",
     "output_type": "stream",
     "text": [
      "29 NaN, 448 duplicate in the provided DataFrame. Have cleaned them all up.\n"
     ]
    }
   ],
   "source": [
    "true_df = process_df(true_df)"
   ]
  },
  {
   "cell_type": "code",
   "execution_count": 6,
   "id": "98ada24d",
   "metadata": {},
   "outputs": [
    {
     "name": "stdout",
     "output_type": "stream",
     "text": [
      "0 NaN, 9564 duplicate in the provided DataFrame. Have cleaned them all up.\n"
     ]
    }
   ],
   "source": [
    "fake_df = process_df(fake_df)"
   ]
  },
  {
   "cell_type": "code",
   "execution_count": 7,
   "id": "3270716f",
   "metadata": {},
   "outputs": [
    {
     "data": {
      "text/html": [
       "<div>\n",
       "<style scoped>\n",
       "    .dataframe tbody tr th:only-of-type {\n",
       "        vertical-align: middle;\n",
       "    }\n",
       "\n",
       "    .dataframe tbody tr th {\n",
       "        vertical-align: top;\n",
       "    }\n",
       "\n",
       "    .dataframe thead th {\n",
       "        text-align: right;\n",
       "    }\n",
       "</style>\n",
       "<table border=\"1\" class=\"dataframe\">\n",
       "  <thead>\n",
       "    <tr style=\"text-align: right;\">\n",
       "      <th></th>\n",
       "      <th>text</th>\n",
       "    </tr>\n",
       "  </thead>\n",
       "  <tbody>\n",
       "    <tr>\n",
       "      <th>0</th>\n",
       "      <td>The head of a conservative Republican faction ...</td>\n",
       "    </tr>\n",
       "    <tr>\n",
       "      <th>1</th>\n",
       "      <td>Transgender people will be allowed for the fir...</td>\n",
       "    </tr>\n",
       "    <tr>\n",
       "      <th>2</th>\n",
       "      <td>The special counsel investigation of links bet...</td>\n",
       "    </tr>\n",
       "    <tr>\n",
       "      <th>3</th>\n",
       "      <td>Trump campaign adviser George Papadopoulos tol...</td>\n",
       "    </tr>\n",
       "    <tr>\n",
       "      <th>4</th>\n",
       "      <td>President Donald Trump called on the U.S. Post...</td>\n",
       "    </tr>\n",
       "  </tbody>\n",
       "</table>\n",
       "</div>"
      ],
      "text/plain": [
       "                                                text\n",
       "0  The head of a conservative Republican faction ...\n",
       "1  Transgender people will be allowed for the fir...\n",
       "2  The special counsel investigation of links bet...\n",
       "3  Trump campaign adviser George Papadopoulos tol...\n",
       "4  President Donald Trump called on the U.S. Post..."
      ]
     },
     "execution_count": 7,
     "metadata": {},
     "output_type": "execute_result"
    }
   ],
   "source": [
    "true_df.head()"
   ]
  },
  {
   "cell_type": "code",
   "execution_count": 8,
   "id": "7848879d",
   "metadata": {},
   "outputs": [
    {
     "data": {
      "text/html": [
       "<div>\n",
       "<style scoped>\n",
       "    .dataframe tbody tr th:only-of-type {\n",
       "        vertical-align: middle;\n",
       "    }\n",
       "\n",
       "    .dataframe tbody tr th {\n",
       "        vertical-align: top;\n",
       "    }\n",
       "\n",
       "    .dataframe thead th {\n",
       "        text-align: right;\n",
       "    }\n",
       "</style>\n",
       "<table border=\"1\" class=\"dataframe\">\n",
       "  <thead>\n",
       "    <tr style=\"text-align: right;\">\n",
       "      <th></th>\n",
       "      <th>text</th>\n",
       "    </tr>\n",
       "  </thead>\n",
       "  <tbody>\n",
       "    <tr>\n",
       "      <th>0</th>\n",
       "      <td>Donald Trump just couldn t wish all Americans ...</td>\n",
       "    </tr>\n",
       "    <tr>\n",
       "      <th>1</th>\n",
       "      <td>House Intelligence Committee Chairman Devin Nu...</td>\n",
       "    </tr>\n",
       "    <tr>\n",
       "      <th>2</th>\n",
       "      <td>On Friday, it was revealed that former Milwauk...</td>\n",
       "    </tr>\n",
       "    <tr>\n",
       "      <th>3</th>\n",
       "      <td>On Christmas day, Donald Trump announced that ...</td>\n",
       "    </tr>\n",
       "    <tr>\n",
       "      <th>4</th>\n",
       "      <td>Pope Francis used his annual Christmas Day mes...</td>\n",
       "    </tr>\n",
       "  </tbody>\n",
       "</table>\n",
       "</div>"
      ],
      "text/plain": [
       "                                                text\n",
       "0  Donald Trump just couldn t wish all Americans ...\n",
       "1  House Intelligence Committee Chairman Devin Nu...\n",
       "2  On Friday, it was revealed that former Milwauk...\n",
       "3  On Christmas day, Donald Trump announced that ...\n",
       "4  Pope Francis used his annual Christmas Day mes..."
      ]
     },
     "execution_count": 8,
     "metadata": {},
     "output_type": "execute_result"
    }
   ],
   "source": [
    "fake_df.head()"
   ]
  },
  {
   "cell_type": "markdown",
   "id": "0bf5c17c",
   "metadata": {},
   "source": [
    "This dataset includes only the articles, without any metadata attached, such as the publisher, date, author."
   ]
  },
  {
   "cell_type": "code",
   "execution_count": 9,
   "id": "7b1179cf",
   "metadata": {},
   "outputs": [
    {
     "data": {
      "text/plain": [
       "68604"
      ]
     },
     "execution_count": 9,
     "metadata": {},
     "output_type": "execute_result"
    }
   ],
   "source": [
    "true_df.shape[0] + fake_df.shape[0]"
   ]
  },
  {
   "cell_type": "markdown",
   "id": "ed0ebb3d",
   "metadata": {},
   "source": [
    "# Splitting"
   ]
  },
  {
   "cell_type": "code",
   "execution_count": 10,
   "id": "ee12d2d2",
   "metadata": {},
   "outputs": [],
   "source": [
    "from sklearn.model_selection import train_test_split"
   ]
  },
  {
   "cell_type": "code",
   "execution_count": 11,
   "id": "827a7aea",
   "metadata": {},
   "outputs": [],
   "source": [
    "true_df[\"label\"] = 1\n",
    "fake_df[\"label\"] = 0"
   ]
  },
  {
   "cell_type": "code",
   "execution_count": 12,
   "id": "1400e6c9",
   "metadata": {},
   "outputs": [],
   "source": [
    "combined_df = pd.concat([true_df, fake_df], ignore_index=True)"
   ]
  },
  {
   "cell_type": "code",
   "execution_count": 13,
   "id": "74aa2870",
   "metadata": {},
   "outputs": [],
   "source": [
    "random_seed = 42\n",
    "test_size = 0.1\n",
    "valid_size = 0.1\n",
    "\n",
    "train_stratified, test_stratified = train_test_split(\n",
    "    combined_df,\n",
    "    test_size=test_size,\n",
    "    random_state=random_seed,\n",
    "    stratify=combined_df[\"label\"],\n",
    ")\n",
    "\n",
    "train_stratified, valid_stratified = train_test_split(\n",
    "    train_stratified,\n",
    "    test_size=valid_size / (1 - test_size),\n",
    "    random_state=random_seed,\n",
    "    stratify=train_stratified[\"label\"],\n",
    ")\n",
    "\n",
    "train_stratified.to_csv(\"./stratify_train.csv\")\n",
    "valid_stratified.to_csv(\"./stratify_valid.csv\")\n",
    "test_stratified.to_csv(\"./stratify_test.csv\")"
   ]
  },
  {
   "cell_type": "code",
   "execution_count": 14,
   "id": "51d1eaac",
   "metadata": {},
   "outputs": [],
   "source": [
    "train_normal, test_normal = train_test_split(\n",
    "    combined_df,\n",
    "    test_size=test_size,\n",
    "    random_state=random_seed,\n",
    ")\n",
    "\n",
    "train_normal, valid_normal = train_test_split(\n",
    "    train_normal,\n",
    "    test_size=valid_size / (1 - test_size),\n",
    "    random_state=random_seed,\n",
    ")\n",
    "\n",
    "train_normal.to_csv(\"./normal_train.csv\")\n",
    "valid_normal.to_csv(\"./normal_valid.csv\")\n",
    "test_normal.to_csv(\"./normal_test.csv\")"
   ]
  }
 ],
 "metadata": {
  "kernelspec": {
   "display_name": "nlp",
   "language": "python",
   "name": "python3"
  },
  "language_info": {
   "codemirror_mode": {
    "name": "ipython",
    "version": 3
   },
   "file_extension": ".py",
   "mimetype": "text/x-python",
   "name": "python",
   "nbconvert_exporter": "python",
   "pygments_lexer": "ipython3",
   "version": "3.10.16"
  }
 },
 "nbformat": 4,
 "nbformat_minor": 5
}
